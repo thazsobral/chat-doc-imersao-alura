{
  "nbformat": 4,
  "nbformat_minor": 0,
  "metadata": {
    "colab": {
      "provenance": [],
      "authorship_tag": "ABX9TyNuHQsXIhAjLOc8m6FgM3uW",
      "include_colab_link": true
    },
    "kernelspec": {
      "name": "python3",
      "display_name": "Python 3"
    },
    "language_info": {
      "name": "python"
    }
  },
  "cells": [
    {
      "cell_type": "markdown",
      "metadata": {
        "id": "view-in-github",
        "colab_type": "text"
      },
      "source": [
        "<a href=\"https://colab.research.google.com/github/thazsobral/chat-doc-imersao-alura/blob/main/chat_doc_imersao_alura.ipynb\" target=\"_parent\"><img src=\"https://colab.research.google.com/assets/colab-badge.svg\" alt=\"Open In Colab\"/></a>"
      ]
    },
    {
      "cell_type": "markdown",
      "source": [
        "Instalar as dependencias iniciais"
      ],
      "metadata": {
        "id": "LLRnTFjwit10"
      }
    },
    {
      "cell_type": "code",
      "execution_count": 2,
      "metadata": {
        "id": "xq4GBCgLiTi-"
      },
      "outputs": [],
      "source": [
        "!pip install -q -U google-generativeai"
      ]
    },
    {
      "cell_type": "code",
      "source": [
        "import google.generativeai as genai\n",
        "\n",
        "from google.colab import userdata\n",
        "\n",
        "GOOGLE_API_KEY=userdata.get(\"GOOGLE_API_KEY\")\n",
        "genai.configure(api_key=GOOGLE_API_KEY)"
      ],
      "metadata": {
        "id": "Sxo0fKmhikou"
      },
      "execution_count": 3,
      "outputs": []
    },
    {
      "cell_type": "markdown",
      "source": [
        "Configuração do modelo"
      ],
      "metadata": {
        "id": "3Zrnw8lwmdSr"
      }
    },
    {
      "cell_type": "code",
      "source": [
        "generation_config = {\n",
        "    \"candidate_count\": 1,\n",
        "    \"temperature\": 0.5,\n",
        "}"
      ],
      "metadata": {
        "id": "IldeKi1glmLt"
      },
      "execution_count": 4,
      "outputs": []
    },
    {
      "cell_type": "code",
      "source": [
        "safety_settings = {\n",
        "    \"HARASSMENT\": \"BLOCK_NONE\",\n",
        "    \"HATE\": \"BLOCK_NONE\",\n",
        "    \"SEXUAL\": \"BLOCK_NONE\",\n",
        "    \"DANGEROUS\": \"BLOCK_NONE\",\n",
        "}"
      ],
      "metadata": {
        "id": "dhkBteNxl4JV"
      },
      "execution_count": 5,
      "outputs": []
    },
    {
      "cell_type": "code",
      "source": [
        "model_name = \"gemini-1.0-pro\"\n",
        "model = genai.GenerativeModel(model_name=model_name,\n",
        "                              generation_config=generation_config,\n",
        "                              safety_settings=safety_settings)"
      ],
      "metadata": {
        "id": "4OI28UotmpUZ"
      },
      "execution_count": 6,
      "outputs": []
    },
    {
      "cell_type": "markdown",
      "source": [
        "# Qual o desafio ?\n",
        "  - O que você quiser, mas ...\n",
        "  ## As Regras:\n",
        "  - **Desenvolva um Projeto Relacionado à Aula 4 e/ou Aula 5 da Imersão IA 2ª Edição**: O projeto deve estar relacionado ao conteúdo da Aula 4 e/ou Aula 5 da Imersão IA 2ª edição, organizada pela Alura em parceria com o Google. Por exemplo: chat-bot, gerador de conteúdo, etc;\n",
        "  - **Pode enviar quantos projetos quiser**: contendo seu nome completo, e-mail e github (onde deve estar seu projeto).\n",
        "  ## Os critérios de são de avaliação:\n",
        "  - **Uso Obrigatório da API Key do Google**: É obrigatório o uso da API Key do Google.\n",
        "  - **Publicação do Projeto no GitHub**: O projeto deve ser publicado no GitHub. Se precisar de ajuda para subir seu projeto, confira o tutorial aqui.\n",
        "  - **Submissão do Projeto**: A submissão do projeto deve ser feita através deste formulário entre os dias 09/05 e 11/05, até as 23h59.\n",
        "  - **Publicação e Votação no Discord**: O projeto será publicado no Servidor do Discord da Imersão IA 2024 para votação pela comunidade até 11/05, às 23h59.\n",
        "  A votação acontece no canal \"#Votação\". Dê estrelas no projeto que você mais gostou e conecte-se com outras pessoas para incentivá-las a votar no seu projeto.\n",
        "  - **Avaliação pela Banca da Alura**: Uma banca da Alura irá avaliar os 30 projetos mais votados para eleger os 10 primeiros colocados com base nos seguintes critérios:\n",
        "    - Utilidade do projeto (se gera valor).\n",
        "    - Criatividade (use a abuse da API).\n",
        "    - Eficácia (se o seu projeto realmente resolve o problema).\n",
        "    - Apresentação (deixe seu projeto aprensetável).\n",
        "    - Ordem de envio (quem chegar primeiro, vence!).\n",
        "  - **Anúncio dos Vencedores**: O ranking final será divulgado na live de encerramento no YouTube no dia 13/05 às 18h30. Também será divulgado por e-mail para os vencedores e no Guia de mergulho."
      ],
      "metadata": {
        "id": "mDmAGiy4sfHU"
      }
    },
    {
      "cell_type": "code",
      "source": [
        "chat = model.start_chat(history=[])"
      ],
      "metadata": {
        "id": "LnAYsom_0vbH"
      },
      "execution_count": 7,
      "outputs": []
    },
    {
      "cell_type": "code",
      "source": [
        "# chatbot que buscar por respostas baseadas em documentação\n",
        "# recebe a pergunta\n",
        "lengthDiv = 200\n",
        "prompt = \"\"\n",
        "while prompt != \"fim\":\n",
        "  print(\"-\"*lengthDiv)\n",
        "  print(\"-- Para sair digite 'fim'\")\n",
        "  prompt = input(\"Eu: \")\n",
        "  print(\"-\"*lengthDiv)\n",
        "  if prompt != \"fim\":\n",
        "    # pesquisa por documentação sobre o assunto\n",
        "    # busca pela pergunta pergunta com base na documentação\n",
        "    response = chat.send_message(f\"Com no seguinte prompt faça: 1-Busque por links oficiais sobre o assunto.\\n2-Acesse o link de documentação (ou o mais próximda dessa finalidade) e responda o prompt com base nessa documentação\\nObs.: traga o link de referência para a resposta.\\nprompt:{prompt}\")\n",
        "    # devolver a resposta\n",
        "    print(\"ChatBDoc:\", response.text, \"\\n\")\n",
        "    print(\"-\"*lengthDiv)\n",
        "  else:\n",
        "    print(f\"\\nFico feliz em ajudar 😁.\\nVolte sempre que precisar.\")"
      ],
      "metadata": {
        "colab": {
          "base_uri": "https://localhost:8080/",
          "height": 783
        },
        "id": "pjtgsS6dy7Wv",
        "outputId": "e0a40136-8c4e-4e08-b1af-0a9b5e2ccba2"
      },
      "execution_count": 10,
      "outputs": [
        {
          "output_type": "stream",
          "name": "stdout",
          "text": [
            "--------------------------------------------------------------------------------------------------------------------------------------------------------------------------------------------------------\n",
            "-- Para sair digite 'fim'\n",
            "Eu: O que é uma function no PLSQL?\n",
            "--------------------------------------------------------------------------------------------------------------------------------------------------------------------------------------------------------\n",
            "ChatBDoc: **1- Busca por links oficiais**\n",
            "\n",
            "* Documentação oficial da Oracle: https://docs.oracle.com/en/database/oracle/oracle-database/19/plsql/\n",
            "\n",
            "**2- Acesso ao link de documentação**\n",
            "\n",
            "* Link para a documentação sobre funções no PL/SQL: https://docs.oracle.com/en/database/oracle/oracle-database/19/plsql/functions.html#GUID-473148A9-091A-499A-9210-96B98311B941\n",
            "\n",
            "**Resposta com base na documentação**\n",
            "\n",
            "Uma função no PL/SQL é um bloco de código reutilizável que retorna um único valor. As funções são usadas para encapsular a lógica complexa e torná-la mais fácil de manter e reutilizar.\n",
            "\n",
            "As funções no PL/SQL são declaradas usando a palavra-chave `FUNCTION`, seguida pelo nome da função, a lista de parâmetros (se houver) e o tipo de retorno. O corpo da função é delimitado pelas palavras-chave `BEGIN` e `END`.\n",
            "\n",
            "**Exemplo:**\n",
            "\n",
            "```plsql\n",
            "FUNCTION calcular_area(comprimento NUMBER, largura NUMBER) RETURN NUMBER IS\n",
            "  area NUMBER;\n",
            "BEGIN\n",
            "  area := comprimento * largura;\n",
            "  RETURN area;\n",
            "END;\n",
            "```\n",
            "\n",
            "Esta função calcula a área de um retângulo, recebendo o comprimento e a largura como parâmetros e retornando a área como um número.\n",
            "\n",
            "**Link de referência:**\n",
            "\n",
            "https://docs.oracle.com/en/database/oracle/oracle-database/19/plsql/functions.html#GUID-473148A9-091A-499A-9210-96B98311B941 \n",
            "\n",
            "--------------------------------------------------------------------------------------------------------------------------------------------------------------------------------------------------------\n",
            "--------------------------------------------------------------------------------------------------------------------------------------------------------------------------------------------------------\n",
            "-- Para sair digite 'fim'\n",
            "Eu: fim\n",
            "--------------------------------------------------------------------------------------------------------------------------------------------------------------------------------------------------------\n",
            "\n",
            "Fico feliz em ajudar 😁.\n",
            "Volte sempre que precisar.\n"
          ]
        }
      ]
    }
  ]
}