{
  "nbformat": 4,
  "nbformat_minor": 0,
  "metadata": {
    "colab": {
      "provenance": [],
      "authorship_tag": "ABX9TyOc7jPBYi+J5E699tRjELgn",
      "include_colab_link": true
    },
    "kernelspec": {
      "name": "python3",
      "display_name": "Python 3"
    },
    "language_info": {
      "name": "python"
    }
  },
  "cells": [
    {
      "cell_type": "markdown",
      "metadata": {
        "id": "view-in-github",
        "colab_type": "text"
      },
      "source": [
        "<a href=\"https://colab.research.google.com/github/thazsobral/chat-doc-imersao-alura/blob/main/imersao_ai_alura_chat_document.ipynb\" target=\"_parent\"><img src=\"https://colab.research.google.com/assets/colab-badge.svg\" alt=\"Open In Colab\"/></a>"
      ]
    },
    {
      "cell_type": "markdown",
      "source": [
        "Instalar as dependencias iniciais"
      ],
      "metadata": {
        "id": "LLRnTFjwit10"
      }
    },
    {
      "cell_type": "code",
      "execution_count": 1,
      "metadata": {
        "id": "xq4GBCgLiTi-"
      },
      "outputs": [],
      "source": [
        "!pip install -q -U google-generativeai"
      ]
    },
    {
      "cell_type": "code",
      "source": [
        "import google.generativeai as genai\n",
        "\n",
        "from google.colab import userdata\n",
        "\n",
        "GOOGLE_API_KEY=userdata.get(\"GOOGLE_API_KEY\")\n",
        "genai.configure(api_key=GOOGLE_API_KEY)"
      ],
      "metadata": {
        "id": "Sxo0fKmhikou"
      },
      "execution_count": 5,
      "outputs": []
    },
    {
      "cell_type": "markdown",
      "source": [
        "Configuração do modelo"
      ],
      "metadata": {
        "id": "3Zrnw8lwmdSr"
      }
    },
    {
      "cell_type": "code",
      "source": [
        "generation_config = {\n",
        "    \"candidate_count\": 1,\n",
        "    \"temperature\": 0.5,\n",
        "}"
      ],
      "metadata": {
        "id": "IldeKi1glmLt"
      },
      "execution_count": 6,
      "outputs": []
    },
    {
      "cell_type": "code",
      "source": [
        "safety_settings = {\n",
        "    \"HARASSMENT\": \"BLOCK_NONE\",\n",
        "    \"HATE\": \"BLOCK_NONE\",\n",
        "    \"SEXUAL\": \"BLOCK_NONE\",\n",
        "    \"DANGEROUS\": \"BLOCK_NONE\",\n",
        "}"
      ],
      "metadata": {
        "id": "dhkBteNxl4JV"
      },
      "execution_count": 7,
      "outputs": []
    },
    {
      "cell_type": "code",
      "source": [
        "model = genai.GenerativeModel(model_name=\"gemini-1.0-pro\",\n",
        "                              generation_config=generation_config,\n",
        "                              safety_settings=safety_settings)"
      ],
      "metadata": {
        "id": "4OI28UotmpUZ"
      },
      "execution_count": 8,
      "outputs": []
    },
    {
      "cell_type": "markdown",
      "source": [
        "# Qual o desafio ?\n",
        "  - O que você quiser, mas ...\n",
        "  ## As Regras:\n",
        "  - **Desenvolva um Projeto Relacionado à Aula 4 e/ou Aula 5 da Imersão IA 2ª Edição**: O projeto deve estar relacionado ao conteúdo da Aula 4 e/ou Aula 5 da Imersão IA 2ª edição, organizada pela Alura em parceria com o Google. Por exemplo: chat-bot, gerador de conteúdo, etc;\n",
        "  - **Pode enviar quantos projetos quiser**: contendo seu nome completo, e-mail e github (onde deve estar seu projeto).\n",
        "  ## Os critérios de são de avaliação:\n",
        "  - **Uso Obrigatório da API Key do Google**: É obrigatório o uso da API Key do Google.\n",
        "  - **Publicação do Projeto no GitHub**: O projeto deve ser publicado no GitHub. Se precisar de ajuda para subir seu projeto, confira o tutorial aqui.\n",
        "  - **Submissão do Projeto**: A submissão do projeto deve ser feita através deste formulário entre os dias 09/05 e 11/05, até as 23h59.\n",
        "  - **Publicação e Votação no Discord**: O projeto será publicado no Servidor do Discord da Imersão IA 2024 para votação pela comunidade até 11/05, às 23h59.\n",
        "  A votação acontece no canal \"#Votação\". Dê estrelas no projeto que você mais gostou e conecte-se com outras pessoas para incentivá-las a votar no seu projeto.\n",
        "  - **Avaliação pela Banca da Alura**: Uma banca da Alura irá avaliar os 30 projetos mais votados para eleger os 10 primeiros colocados com base nos seguintes critérios:\n",
        "    - Utilidade do projeto (se gera valor).\n",
        "    - Criatividade (use a abuse da API).\n",
        "    - Eficácia (se o seu projeto realmente resolve o problema).\n",
        "    - Apresentação (deixe seu projeto aprensetável).\n",
        "    - Ordem de envio (quem chegar primeiro, vence!).\n",
        "  - **Anúncio dos Vencedores**: O ranking final será divulgado na live de encerramento no YouTube no dia 13/05 às 18h30. Também será divulgado por e-mail para os vencedores e no Guia de mergulho."
      ],
      "metadata": {
        "id": "mDmAGiy4sfHU"
      }
    },
    {
      "cell_type": "code",
      "source": [
        "chat = model.start_chat(history=[])"
      ],
      "metadata": {
        "id": "LnAYsom_0vbH"
      },
      "execution_count": 12,
      "outputs": []
    },
    {
      "cell_type": "code",
      "source": [
        "# chatbot que buscar por respostas baseadas em documentação\n",
        "# recebe a pergunta\n",
        "prompt = \"\"\n",
        "while prompt != \"fim\":\n",
        "  print(\"--Para sair digite 'fim'\")\n",
        "  prompt = input(\"Eu: \")\n",
        "  if prompt != \"fim\":\n",
        "    # pesquisa por documentação sobre o assunto\n",
        "    # busca pela pergunta pergunta com base na documentação\n",
        "    response = chat.send_message(f\"Com no seguinte prompt faça: 1-Busque por links oficiais sobre o assunto.\\n2-Acesse o link de documentação (ou o mais próximda dessa finalidade) e responda o prompt com base nessa documentação\\nObs.: traga o link de referência para a resposta.\\nprompt:{prompt}\")\n",
        "    # devolver a resposta\n",
        "    print(\"ChatBDoc:\", response.text, \"\\n\")\n",
        "  else:\n",
        "    print(f\"\\nFico feliz em ajudar 😁.\\nVolte sempre que precisar.\")"
      ],
      "metadata": {
        "colab": {
          "base_uri": "https://localhost:8080/"
        },
        "id": "pjtgsS6dy7Wv",
        "outputId": "cda3a416-346e-4d53-cd96-d849a3d104bf"
      },
      "execution_count": 19,
      "outputs": [
        {
          "output_type": "stream",
          "name": "stdout",
          "text": [
            "--Para sair digite 'fim'\n",
            "Eu: fim\n",
            "\n",
            "Fico feliz em ajudar 😁.\n",
            "Volte sempre que precisar.\n"
          ]
        }
      ]
    }
  ]
}